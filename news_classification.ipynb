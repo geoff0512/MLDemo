{
 "cells": [
  {
   "cell_type": "code",
   "execution_count": 20,
   "metadata": {
    "collapsed": true
   },
   "outputs": [
    {
     "data": {
      "text/html": [
       "<div>\n",
       "<style scoped>\n",
       "    .dataframe tbody tr th:only-of-type {\n",
       "        vertical-align: middle;\n",
       "    }\n",
       "\n",
       "    .dataframe tbody tr th {\n",
       "        vertical-align: top;\n",
       "    }\n",
       "\n",
       "    .dataframe thead th {\n",
       "        text-align: right;\n",
       "    }\n",
       "</style>\n",
       "<table border=\"1\" class=\"dataframe\">\n",
       "  <thead>\n",
       "    <tr style=\"text-align: right;\">\n",
       "      <th></th>\n",
       "      <th>content</th>\n",
       "      <th>ans</th>\n",
       "    </tr>\n",
       "  </thead>\n",
       "  <tbody>\n",
       "    <tr>\n",
       "      <th>0</th>\n",
       "      <td>\\n各國記者眼中的羽毛球世錦賽\\n \\n\\n-----------------------...</td>\n",
       "      <td>體育</td>\n",
       "    </tr>\n",
       "    <tr>\n",
       "      <th>1</th>\n",
       "      <td>最優秀選手無緣亞運會健美賽\\n \\n　 \\n    健美在亞洲運動會上是“新生兒”——韓國釜...</td>\n",
       "      <td>體育</td>\n",
       "    </tr>\n",
       "    <tr>\n",
       "      <th>2</th>\n",
       "      <td>帆 板 運 動 簡 介（二）\\n\\n　　我國在79年由國家體委青島航海運動學校成功試製出第一...</td>\n",
       "      <td>體育</td>\n",
       "    </tr>\n",
       "    <tr>\n",
       "      <th>3</th>\n",
       "      <td>男子健美初登亞運會 中國猛男直指前三\\n \\n　 \\n    在即將開幕的釜山亞運會上，男子...</td>\n",
       "      <td>體育</td>\n",
       "    </tr>\n",
       "    <tr>\n",
       "      <th>4</th>\n",
       "      <td>不解之謎\\n\\n　　第2屆奧運會在法國巴黎舉行。這次奧運會的馬拉松比賽的赳點和終點均設在當作...</td>\n",
       "      <td>體育</td>\n",
       "    </tr>\n",
       "    <tr>\n",
       "      <th>...</th>\n",
       "      <td>...</td>\n",
       "      <td>...</td>\n",
       "    </tr>\n",
       "    <tr>\n",
       "      <th>96</th>\n",
       "      <td>日月光華 -- Economics精華區文章閱讀\\n--------------------...</td>\n",
       "      <td>經濟</td>\n",
       "    </tr>\n",
       "    <tr>\n",
       "      <th>97</th>\n",
       "      <td>日月光華 -- Economics精華區文章閱讀\\n--------------------...</td>\n",
       "      <td>經濟</td>\n",
       "    </tr>\n",
       "    <tr>\n",
       "      <th>98</th>\n",
       "      <td>日月光華 -- Economics精華區文章閱讀\\n--------------------...</td>\n",
       "      <td>經濟</td>\n",
       "    </tr>\n",
       "    <tr>\n",
       "      <th>99</th>\n",
       "      <td>日月光華 -- Economics精華區文章閱讀\\n--------------------...</td>\n",
       "      <td>經濟</td>\n",
       "    </tr>\n",
       "    <tr>\n",
       "      <th>100</th>\n",
       "      <td>日月光華 -- Economics精華區文章閱讀\\n--------------------...</td>\n",
       "      <td>經濟</td>\n",
       "    </tr>\n",
       "  </tbody>\n",
       "</table>\n",
       "<p>101 rows × 2 columns</p>\n",
       "</div>"
      ],
      "text/plain": [
       "                                               content ans\n",
       "0     \\n各國記者眼中的羽毛球世錦賽\\n \\n\\n-----------------------...  體育\n",
       "1    最優秀選手無緣亞運會健美賽\\n \\n　 \\n    健美在亞洲運動會上是“新生兒”——韓國釜...  體育\n",
       "2    帆 板 運 動 簡 介（二）\\n\\n　　我國在79年由國家體委青島航海運動學校成功試製出第一...  體育\n",
       "3    男子健美初登亞運會 中國猛男直指前三\\n \\n　 \\n    在即將開幕的釜山亞運會上，男子...  體育\n",
       "4    不解之謎\\n\\n　　第2屆奧運會在法國巴黎舉行。這次奧運會的馬拉松比賽的赳點和終點均設在當作...  體育\n",
       "..                                                 ...  ..\n",
       "96   日月光華 -- Economics精華區文章閱讀\\n--------------------...  經濟\n",
       "97   日月光華 -- Economics精華區文章閱讀\\n--------------------...  經濟\n",
       "98   日月光華 -- Economics精華區文章閱讀\\n--------------------...  經濟\n",
       "99   日月光華 -- Economics精華區文章閱讀\\n--------------------...  經濟\n",
       "100  日月光華 -- Economics精華區文章閱讀\\n--------------------...  經濟\n",
       "\n",
       "[101 rows x 2 columns]"
      ]
     },
     "execution_count": 20,
     "metadata": {},
     "output_type": "execute_result"
    }
   ],
   "source": [
    "import glob\n",
    "import os\n",
    "import pandas as pd\n",
    "fs = glob.glob(\"chinese_news_test/*/*.[tT][xX][tT]\")\n",
    "cats = []\n",
    "contents = []\n",
    "for fname in fs:\n",
    "    fn = os.path.split(fname)[-1]\n",
    "    with open(fname, \"r\", encoding=\"utf-8\") as f:\n",
    "        content = f.read()\n",
    "        contents.append(content)\n",
    "    dn = os.path.split(fname)[0]\n",
    "    dn = os.path.split(dn)[-1]\n",
    "    cats.append(dn)\n",
    "test_df = pd.DataFrame({\n",
    "    \"content\":contents,\n",
    "    \"ans\":cats\n",
    "})\n",
    "test_df"
   ]
  },
  {
   "cell_type": "code",
   "execution_count": 21,
   "metadata": {
    "collapsed": true
   },
   "outputs": [
    {
     "data": {
      "text/html": [
       "<div>\n",
       "<style scoped>\n",
       "    .dataframe tbody tr th:only-of-type {\n",
       "        vertical-align: middle;\n",
       "    }\n",
       "\n",
       "    .dataframe tbody tr th {\n",
       "        vertical-align: top;\n",
       "    }\n",
       "\n",
       "    .dataframe thead th {\n",
       "        text-align: right;\n",
       "    }\n",
       "</style>\n",
       "<table border=\"1\" class=\"dataframe\">\n",
       "  <thead>\n",
       "    <tr style=\"text-align: right;\">\n",
       "      <th></th>\n",
       "      <th>content</th>\n",
       "      <th>ans</th>\n",
       "    </tr>\n",
       "  </thead>\n",
       "  <tbody>\n",
       "    <tr>\n",
       "      <th>0</th>\n",
       "      <td>國家體委和全國體總電賀三國和平登山隊征服珠峰\\n新華社北京５月７日電國...</td>\n",
       "      <td>體育</td>\n",
       "    </tr>\n",
       "    <tr>\n",
       "      <th>1</th>\n",
       "      <td>（專發《天津日報》）三國和平登山隊覆信感謝天津\\n少先隊員\\n    ...</td>\n",
       "      <td>體育</td>\n",
       "    </tr>\n",
       "    <tr>\n",
       "      <th>2</th>\n",
       "      <td>王志良透露亞運會集資部活動經費支出情況\\n新華社北京５月９日電（記者李...</td>\n",
       "      <td>體育</td>\n",
       "    </tr>\n",
       "    <tr>\n",
       "      <th>3</th>\n",
       "      <td>通訊：聶衛平從嚴治軍\\n新華社杭州５月９日電通訊：聶衛平從嚴治軍\\n ...</td>\n",
       "      <td>體育</td>\n",
       "    </tr>\n",
       "    <tr>\n",
       "      <th>4</th>\n",
       "      <td>西藏自治區政府宴請和平登山隊\\n新華社拉薩５月２１日電（記者王永治）西...</td>\n",
       "      <td>體育</td>\n",
       "    </tr>\n",
       "    <tr>\n",
       "      <th>...</th>\n",
       "      <td>...</td>\n",
       "      <td>...</td>\n",
       "    </tr>\n",
       "    <tr>\n",
       "      <th>2632</th>\n",
       "      <td>緬批准成立邊界貿易商會\\n新華社仰光５月１４日電據此間官方報紙今天報道...</td>\n",
       "      <td>經濟</td>\n",
       "    </tr>\n",
       "    <tr>\n",
       "      <th>2633</th>\n",
       "      <td>日月光華 -- Economics精華區文章閱讀\\n--------------------...</td>\n",
       "      <td>經濟</td>\n",
       "    </tr>\n",
       "    <tr>\n",
       "      <th>2634</th>\n",
       "      <td>日月光華 -- Economics精華區文章閱讀\\n--------------------...</td>\n",
       "      <td>經濟</td>\n",
       "    </tr>\n",
       "    <tr>\n",
       "      <th>2635</th>\n",
       "      <td>日月光華 -- Economics精華區文章閱讀\\n--------------------...</td>\n",
       "      <td>經濟</td>\n",
       "    </tr>\n",
       "    <tr>\n",
       "      <th>2636</th>\n",
       "      <td>日月光華 -- Economics精華區文章閱讀\\n--------------------...</td>\n",
       "      <td>經濟</td>\n",
       "    </tr>\n",
       "  </tbody>\n",
       "</table>\n",
       "<p>2637 rows × 2 columns</p>\n",
       "</div>"
      ],
      "text/plain": [
       "                                                content ans\n",
       "0                國家體委和全國體總電賀三國和平登山隊征服珠峰\\n新華社北京５月７日電國...  體育\n",
       "1                （專發《天津日報》）三國和平登山隊覆信感謝天津\\n少先隊員\\n    ...  體育\n",
       "2                王志良透露亞運會集資部活動經費支出情況\\n新華社北京５月９日電（記者李...  體育\n",
       "3                通訊：聶衛平從嚴治軍\\n新華社杭州５月９日電通訊：聶衛平從嚴治軍\\n ...  體育\n",
       "4                西藏自治區政府宴請和平登山隊\\n新華社拉薩５月２１日電（記者王永治）西...  體育\n",
       "...                                                 ...  ..\n",
       "2632             緬批准成立邊界貿易商會\\n新華社仰光５月１４日電據此間官方報紙今天報道...  經濟\n",
       "2633  日月光華 -- Economics精華區文章閱讀\\n--------------------...  經濟\n",
       "2634  日月光華 -- Economics精華區文章閱讀\\n--------------------...  經濟\n",
       "2635  日月光華 -- Economics精華區文章閱讀\\n--------------------...  經濟\n",
       "2636  日月光華 -- Economics精華區文章閱讀\\n--------------------...  經濟\n",
       "\n",
       "[2637 rows x 2 columns]"
      ]
     },
     "execution_count": 21,
     "metadata": {},
     "output_type": "execute_result"
    }
   ],
   "source": [
    "fs = glob.glob(\"chinese_news_trans/*/*.[tT][xX][tT]\")\n",
    "cats = []\n",
    "contents = []\n",
    "for fname in fs:\n",
    "    fn = os.path.split(fname)[-1]\n",
    "    with open(fname, \"r\", encoding=\"utf-8\") as f:\n",
    "        content = f.read()\n",
    "        contents.append(content)\n",
    "    dn = os.path.split(fname)[0]\n",
    "    dn = os.path.split(dn)[-1]\n",
    "    cats.append(dn)\n",
    "train_df = pd.DataFrame({\n",
    "    \"content\":contents,\n",
    "    \"ans\":cats\n",
    "})\n",
    "train_df"
   ]
  },
  {
   "cell_type": "code",
   "execution_count": 22,
   "metadata": {
    "collapsed": true
   },
   "outputs": [
    {
     "data": {
      "text/plain": [
       "{'體育': 0,\n",
       " '教育': 1,\n",
       " '藝術': 2,\n",
       " '環境': 3,\n",
       " '醫藥': 4,\n",
       " '政治': 5,\n",
       " '軍事': 6,\n",
       " '交通': 7,\n",
       " '計算機': 8,\n",
       " '經濟': 9}"
      ]
     },
     "execution_count": 22,
     "metadata": {},
     "output_type": "execute_result"
    }
   ],
   "source": [
    "# unique\n",
    "labels = train_df[\"ans\"].unique()\n",
    "trans = {label:i for i, label in enumerate(labels)}\n",
    "reverse_trans = {i:label for i, label in enumerate(labels)}\n",
    "trans"
   ]
  },
  {
   "cell_type": "code",
   "execution_count": 25,
   "metadata": {},
   "outputs": [],
   "source": [
    "# if MAC（mac才需要）\n",
    "import ssl\n",
    "ssl._create_default_https_context = ssl._create_unverified_context"
   ]
  },
  {
   "cell_type": "code",
   "execution_count": 26,
   "metadata": {},
   "outputs": [],
   "source": [
    "from urllib.request import urlretrieve\n",
    "url = \"https://github.com/fxsjy/jieba/raw/master/extra_dict/dict.txt.big\"\n",
    "urlretrieve(url, \"dict.txt.big\")\n",
    "import jieba\n",
    "jieba.set_dictionary(\"dict.txt.big\")"
   ]
  },
  {
   "cell_type": "code",
   "execution_count": 27,
   "metadata": {},
   "outputs": [],
   "source": [
    "def newscut(s):\n",
    "    s = s.replace(\"\\r\", \"\").replace(\"\\n\", \"\")\n",
    "    return \" \".join(jieba.cut(s))"
   ]
  },
  {
   "cell_type": "code",
   "execution_count": 28,
   "metadata": {},
   "outputs": [
    {
     "name": "stderr",
     "output_type": "stream",
     "text": [
      "Building prefix dict from /Users/geoff/PycharmProjects/MLDemo/dict.txt.big ...\n",
      "Dumping model to file cache /var/folders/54/1zgw09v52knfq94ck5wlrbdm0000gn/T/jieba.u7b0bebbb3f35c2bd0250dfe97a978289.cache\n",
      "Loading model cost 2.208 seconds.\n",
      "Prefix dict has been built succesfully.\n"
     ]
    },
    {
     "data": {
      "text/plain": [
       "0        各國 記者 眼中 的 羽毛球 世錦賽   - - - - - - - - - - - -...\n",
       "1      最 優秀 選手 無緣 亞運會 健美 賽   　           健美 在 亞洲 運動會 ...\n",
       "2      帆   板   運   動   簡   介 （ 二 ） 　 　 我國 在 79 年 由 國家...\n",
       "3      男子 健美 初登 亞運會   中國 猛男 直指 前 三   　           在 即將...\n",
       "4      不解之謎 　 　 第 2 屆 奧運會 在 法國巴黎 舉行 。 這次 奧運會 的 馬拉松 比賽...\n",
       "                             ...                        \n",
       "96     日月 光華   - -   Economics 精華區 文章 閱讀 - - - - - - ...\n",
       "97     日月 光華   - -   Economics 精華區 文章 閱讀 - - - - - - ...\n",
       "98     日月 光華   - -   Economics 精華區 文章 閱讀 - - - - - - ...\n",
       "99     日月 光華   - -   Economics 精華區 文章 閱讀 - - - - - - ...\n",
       "100    日月 光華   - -   Economics 精華區 文章 閱讀 - - - - - - ...\n",
       "Name: content, Length: 101, dtype: object"
      ]
     },
     "execution_count": 28,
     "metadata": {},
     "output_type": "execute_result"
    }
   ],
   "source": [
    "x_train = train_df[\"content\"].apply(newscut)\n",
    "x_test = test_df[\"content\"].apply(newscut)\n",
    "x_test"
   ]
  },
  {
   "cell_type": "code",
   "execution_count": 29,
   "metadata": {},
   "outputs": [
    {
     "data": {
      "text/plain": [
       "0      0\n",
       "1      0\n",
       "2      0\n",
       "3      0\n",
       "4      0\n",
       "      ..\n",
       "96     9\n",
       "97     9\n",
       "98     9\n",
       "99     9\n",
       "100    9\n",
       "Name: ans, Length: 101, dtype: int64"
      ]
     },
     "execution_count": 29,
     "metadata": {},
     "output_type": "execute_result"
    }
   ],
   "source": [
    "y_train = train_df[\"ans\"].replace(trans)\n",
    "y_test = test_df[\"ans\"].replace(trans)\n",
    "y_test"
   ]
  },
  {
   "cell_type": "code",
   "execution_count": 30,
   "metadata": {},
   "outputs": [
    {
     "data": {
      "text/plain": [
       "<101x74744 sparse matrix of type '<class 'numpy.int64'>'\n",
       "\twith 27219 stored elements in Compressed Sparse Row format>"
      ]
     },
     "execution_count": 30,
     "metadata": {},
     "output_type": "execute_result"
    }
   ],
   "source": [
    "from sklearn.feature_extraction.text import CountVectorizer\n",
    "vec = CountVectorizer()\n",
    "x_train_vec = vec.fit_transform(x_train)\n",
    "x_test_vec = vec.transform(x_test)\n",
    "x_test_vec"
   ]
  },
  {
   "cell_type": "code",
   "execution_count": 31,
   "metadata": {},
   "outputs": [
    {
     "data": {
      "text/plain": [
       "MultinomialNB(alpha=1.0, class_prior=None, fit_prior=True)"
      ]
     },
     "execution_count": 31,
     "metadata": {},
     "output_type": "execute_result"
    }
   ],
   "source": [
    "from sklearn.naive_bayes import MultinomialNB\n",
    "clf = MultinomialNB()\n",
    "clf.fit(x_train_vec, y_train)"
   ]
  },
  {
   "cell_type": "code",
   "execution_count": 32,
   "metadata": {},
   "outputs": [
    {
     "data": {
      "text/plain": [
       "1.0"
      ]
     },
     "execution_count": 32,
     "metadata": {},
     "output_type": "execute_result"
    }
   ],
   "source": [
    "from sklearn.metrics import accuracy_score\n",
    "pre = clf.predict(x_test_vec)\n",
    "accuracy_score(pre, y_test)"
   ]
  },
  {
   "cell_type": "code",
   "execution_count": 33,
   "metadata": {},
   "outputs": [
    {
     "name": "stdout",
     "output_type": "stream",
     "text": [
      "輸入新聞:台灣\n",
      "******************************\n",
      "這個新聞應該是: 政治\n",
      "******************************\n",
      "類別: 政治 機率: 0.18733409177095192\n",
      "類別: 體育 機率: 0.16647705726204023\n",
      "類別: 經濟 機率: 0.11376564277588165\n",
      "類別: 藝術 機率: 0.08797876374668182\n",
      "類別: 軍事 機率: 0.08722032612817597\n",
      "類別: 教育 機率: 0.07811907470610543\n",
      "類別: 醫藥 機率: 0.07356844899507016\n",
      "類別: 交通 機率: 0.06977626090254077\n",
      "類別: 環境 機率: 0.06901782328403487\n",
      "類別: 計算機 機率: 0.06674251042851723\n"
     ]
    }
   ],
   "source": [
    "n = input(\"輸入新聞:\")\n",
    "n = newscut(n)\n",
    "n = vec.transform([n])\n",
    "pi = reverse_trans[clf.predict(n)[0]]\n",
    "print(\"*\" * 30)\n",
    "print(\"這個新聞應該是:\", pi)\n",
    "print(\"*\" * 30)\n",
    "proba = clf.predict_proba(n)[0]\n",
    "proba = sorted(list(zip(trans, proba)),\n",
    "               reverse=True,\n",
    "               key=lambda x:x[1])\n",
    "for l, p in proba:\n",
    "    print(\"類別:\", l, \"機率:\", p)"
   ]
  },
  {
   "cell_type": "code",
   "execution_count": 34,
   "metadata": {},
   "outputs": [
    {
     "name": "stdout",
     "output_type": "stream",
     "text": [
      "1 4 7\n",
      "2 5 8\n",
      "3 6 9\n"
     ]
    }
   ],
   "source": [
    "# zip([1, 2, 3], [4, 5, 6], [7, 8, 9])\n",
    "for i, j, k in zip([1, 2, 3], [4, 5, 6], [7, 8, 9]):\n",
    "    print(i, j, k)"
   ]
  },
  {
   "cell_type": "code",
   "execution_count": 35,
   "metadata": {},
   "outputs": [
    {
     "data": {
      "text/plain": [
       "[4, 3, 1]"
      ]
     },
     "execution_count": 35,
     "metadata": {},
     "output_type": "execute_result"
    }
   ],
   "source": [
    "sorted([1, 4, 3], reverse=True)"
   ]
  },
  {
   "cell_type": "code",
   "execution_count": 36,
   "metadata": {},
   "outputs": [
    {
     "data": {
      "text/plain": [
       "[('ooo', 4), ('aaaa', 3), ('xxx', 1)]"
      ]
     },
     "execution_count": 36,
     "metadata": {},
     "output_type": "execute_result"
    }
   ],
   "source": [
    "#def pick(x):\n",
    "#    return x[1]\n",
    "sorted([(\"xxx\", 1), (\"ooo\", 4), (\"aaaa\", 3)], \n",
    "       reverse=True,\n",
    "       key=lambda x:x[1])"
   ]
  },
  {
   "cell_type": "code",
   "execution_count": null,
   "metadata": {},
   "outputs": [],
   "source": []
  }
 ],
 "metadata": {
  "kernelspec": {
   "display_name": "Python 3",
   "language": "python",
   "name": "python3"
  },
  "language_info": {
   "codemirror_mode": {
    "name": "ipython",
    "version": 3
   },
   "file_extension": ".py",
   "mimetype": "text/x-python",
   "name": "python",
   "nbconvert_exporter": "python",
   "pygments_lexer": "ipython3",
   "version": "3.7.5"
  }
 },
 "nbformat": 4,
 "nbformat_minor": 2
}
